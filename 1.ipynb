{
 "cells": [
  {
   "cell_type": "code",
   "execution_count": 1,
   "metadata": {},
   "outputs": [],
   "source": [
    "import pandas as pd\n",
    "import numpy as np\n",
    "import openpyxl\n",
    "\n",
    "\n"
   ]
  },
  {
   "attachments": {},
   "cell_type": "markdown",
   "metadata": {},
   "source": [
    "**Sanity Checks – Data Cleaning**"
   ]
  },
  {
   "cell_type": "code",
   "execution_count": 5,
   "metadata": {},
   "outputs": [
    {
     "name": "stdout",
     "output_type": "stream",
     "text": [
      "    Sl No: Customer        Age        City Credit Card Product     Limit  \\\n",
      "1      2.0       A2  35.534551    CALCUTTA              Silver  100000.0   \n",
      "3      4.0       A4  45.820278      BOMBAY            Platimum   10001.0   \n",
      "4      5.0       A5  69.663948   BANGALORE            Platimum   10002.0   \n",
      "5      6.0       A6  35.578586       DELHI              Silver  100000.0   \n",
      "6      7.0       A7  52.102217      COCHIN              Silver  100001.0   \n",
      "..     ...      ...        ...         ...                 ...       ...   \n",
      "95    96.0      A96  29.631637     CHENNAI              Silver  100000.0   \n",
      "96    97.0      A97  20.611833  TRIVANDRUM            Platimum   10000.0   \n",
      "97    98.0      A98  40.538985    CALCUTTA            Platimum   10001.0   \n",
      "98    99.0      A99  21.588666    CALCUTTA            Platimum   10002.0   \n",
      "99   100.0     A100  23.607638      COCHIN              Silver  100000.0   \n",
      "\n",
      "   Company        Segment   SPEND Amount  \n",
      "1       C2   Salaried_MNC  335578.666019  \n",
      "3       C4           Govt  141177.813256  \n",
      "4       C5  Normal Salary  398403.771812  \n",
      "5       C6  Self Employed  429084.568141  \n",
      "6       C7   Salaried_MNC  219341.961771  \n",
      "..     ...            ...            ...  \n",
      "95     C19   Salaried_Pvt  321836.011508  \n",
      "96     C20           Govt  347833.879524  \n",
      "97     C21  Normal Salary  320363.535698  \n",
      "98     C22  Self Employed  164330.042270  \n",
      "99      C5   Salaried_MNC   87483.511992  \n",
      "\n",
      "[78 rows x 9 columns]\n"
     ]
    }
   ],
   "source": [
    "wb = pd.read_excel('project.xlsx')\n",
    "\n",
    "\n",
    "filtered_df = wb[wb['Age'] >= 18.00]\n",
    "print(filtered_df)\n",
    "\n",
    "wb = openpyxl.load_workbook('project.xlsx')\n",
    "\n",
    "\n",
    "sheet = wb['Spend']\n",
    "\n",
    "\n",
    "repayment = sheet['J2'].value\n",
    "spend = sheet['E3'].value\n",
    "\n",
    "# Calculate the surplus amount\n",
    "surplus = repayment - spend\n",
    "\n",
    "\n",
    "if surplus > 0:\n",
    "    credit = surplus * 0.02\n",
    "else:\n",
    "    credit = 0\n",
    "\n",
    "#\n",
    "billing_next_month = spend - credit\n",
    "\n",
    "\n",
    "sheet['K2'].value = credit\n",
    "sheet['L2'].value = billing_next_month\n",
    "\n",
    "\n",
    "wb.save('1.xlsx')\n",
    "\n",
    "\n",
    "\n",
    "\n",
    "\n",
    "\n",
    "\n",
    "\n",
    "\n",
    "\n",
    "\n",
    "\n",
    "\n",
    "\n",
    "\n",
    "\n",
    "\n"
   ]
  },
  {
   "attachments": {},
   "cell_type": "markdown",
   "metadata": {},
   "source": [
    "**Tasks**\n"
   ]
  },
  {
   "attachments": {},
   "cell_type": "markdown",
   "metadata": {},
   "source": [
    "**Monthly spend of each customer**\n"
   ]
  },
  {
   "cell_type": "code",
   "execution_count": 5,
   "metadata": {},
   "outputs": [
    {
     "name": "stdout",
     "output_type": "stream",
     "text": [
      "Total Amount spent: 381352048.4308969\n"
     ]
    }
   ],
   "source": [
    "vf = pd.read_excel('project.xlsx', sheet_name='Spend')\n",
    "\n",
    "total_spent = vf[' SPEND Amount'].sum()\n",
    "print(\"Total Amount spent:\", total_spent)\n"
   ]
  },
  {
   "attachments": {},
   "cell_type": "markdown",
   "metadata": {},
   "source": [
    "**Monthly repayment of each customer**"
   ]
  },
  {
   "cell_type": "code",
   "execution_count": 6,
   "metadata": {},
   "outputs": [
    {
     "name": "stdout",
     "output_type": "stream",
     "text": [
      "Total reapyment  371208444.12557673\n"
     ]
    }
   ],
   "source": [
    "df = pd.read_excel('project.xlsx', sheet_name='Repayment')\n",
    "\n",
    "monthly_repayment = df[' Repayment Amount'].sum()\n",
    "print(\"Total reapyment \", monthly_repayment)"
   ]
  },
  {
   "attachments": {},
   "cell_type": "markdown",
   "metadata": {},
   "source": [
    "**Highest paying 10 customers**\n"
   ]
  },
  {
   "cell_type": "code",
   "execution_count": 7,
   "metadata": {},
   "outputs": [
    {
     "name": "stdout",
     "output_type": "stream",
     "text": [
      "      SL No: Costomer      Month   Repayment Amount\n",
      "1480    1481      A61 2006-03-25         183.218203\n",
      "1407    1408      A49 2005-08-03         247.098585\n",
      "1326    1327      A55 2004-04-25         611.043628\n",
      "1404    1405      A46 2005-06-02         802.286656\n",
      "1094    1095      A55 2006-11-21        1128.949590\n",
      "126      127      A11 2006-03-05        1129.543601\n",
      "1398    1399      A40 2005-05-27        1284.649513\n",
      "1243    1244      A59 2005-06-02        1545.267950\n",
      "4          5       A1 2005-01-17        1581.969829\n",
      "1187    1188      A61 2005-04-04        1609.898995\n"
     ]
    }
   ],
   "source": [
    "df = pd.read_excel('project.xlsx', sheet_name='Repayment')\n",
    "\n",
    "sorted_df = df.sort_values(' Repayment Amount', ascending=True)\n",
    "\n",
    "top_10_customers = sorted_df.head(10)\n",
    "print(top_10_customers)\n",
    "\n"
   ]
  },
  {
   "attachments": {},
   "cell_type": "markdown",
   "metadata": {},
   "source": [
    "**Which age group is spending more money?**\n"
   ]
  },
  {
   "cell_type": "code",
   "execution_count": 8,
   "metadata": {},
   "outputs": [
    {
     "name": "stdout",
     "output_type": "stream",
     "text": [
      "The age group spending the most money is: 58.078266172803225\n"
     ]
    }
   ],
   "source": [
    "grouped_data = wb.groupby('Age')[' SPEND Amount'].sum()\n",
    "\n",
    "\n",
    "most_spent_age_group = grouped_data.idxmax()\n",
    "\n",
    "print(\"The age group spending the most money is:\", most_spent_age_group)\n",
    "\n"
   ]
  },
  {
   "attachments": {},
   "cell_type": "markdown",
   "metadata": {},
   "source": [
    "**Which is the most profitable segment?**\n"
   ]
  },
  {
   "cell_type": "code",
   "execution_count": 9,
   "metadata": {},
   "outputs": [
    {
     "name": "stdout",
     "output_type": "stream",
     "text": [
      "The most profitable segment is: FOOD\n"
     ]
    }
   ],
   "source": [
    "vf['Profit'] = vf[' Repayment Amount'] - vf[' SPEND Amount']\n",
    "\n",
    "\n",
    "grouped_data = vf.groupby('Type')['Profit'].sum()\n",
    "\n",
    "most_profitable_segment = grouped_data.idxmax()\n",
    "\n",
    "print(\"The most profitable segment is:\", most_profitable_segment)"
   ]
  },
  {
   "attachments": {},
   "cell_type": "markdown",
   "metadata": {},
   "source": [
    "**In which category the customers are spending more money?**\n"
   ]
  },
  {
   "cell_type": "code",
   "execution_count": 10,
   "metadata": {},
   "outputs": [
    {
     "name": "stdout",
     "output_type": "stream",
     "text": [
      "Customers are spending more money in the Type\n",
      "AIR TICKET       494\n",
      "AUTO             579\n",
      "BIKE            1174\n",
      "BUS TICKET       931\n",
      "CAMERA          1488\n",
      "CAR               81\n",
      "CLOTHES         1075\n",
      "FOOD             367\n",
      "JEWELLERY       1334\n",
      "MOVIE TICKET    1469\n",
      "PETRO           1197\n",
      "RENTAL          1044\n",
      "SANDALS          656\n",
      "SHOPPING         763\n",
      "TRAIN TICKET     459\n",
      "Name:  SPEND Amount, dtype: int64 category.\n"
     ]
    }
   ],
   "source": [
    "grouped_data = vf.groupby('Type')[' SPEND Amount']\n",
    "\n",
    "most_spent_category = grouped_data.idxmax()\n",
    "\n",
    "print(\"Customers are spending more money in the\", most_spent_category, \"category.\")"
   ]
  },
  {
   "attachments": {},
   "cell_type": "markdown",
   "metadata": {},
   "source": [
    "**Monthly profit for the bank**\n"
   ]
  },
  {
   "cell_type": "code",
   "execution_count": 15,
   "metadata": {},
   "outputs": [
    {
     "name": "stdout",
     "output_type": "stream",
     "text": [
      "The monthly profit for the bank is: -10143604.305320116\n"
     ]
    }
   ],
   "source": [
    "\n",
    "vf['Profit'] = vf[' Repayment Amount'] - vf[' SPEND Amount']\n",
    "\n",
    "\n",
    "overall_profit = vf['Profit'].sum()\n",
    "\n",
    "print(\"The monthly profit for the bank is:\", overall_profit)\n"
   ]
  },
  {
   "attachments": {},
   "cell_type": "markdown",
   "metadata": {},
   "source": [
    "**Impose an interest rate of 2.9% for each customer for any due amount**\n"
   ]
  },
  {
   "cell_type": "code",
   "execution_count": 17,
   "metadata": {},
   "outputs": [
    {
     "name": "stdout",
     "output_type": "stream",
     "text": [
      "     Costomer  Interest Amount\n",
      "0          A1     13739.499211\n",
      "1          A1      9731.781315\n",
      "2          A1     10760.187315\n",
      "3          A1      4094.156584\n",
      "4          A1     11553.709383\n",
      "...       ...              ...\n",
      "1495      A67      5679.398054\n",
      "1496      A68      8243.613014\n",
      "1497      A69      5990.015934\n",
      "1498      A70      1189.718657\n",
      "1499      A71      2940.528909\n",
      "\n",
      "[1500 rows x 2 columns]\n"
     ]
    }
   ],
   "source": [
    "vf['Interest Amount'] = vf[' SPEND Amount'] * 0.029\n",
    "\n",
    "print(vf[['Costomer', 'Interest Amount']])"
   ]
  }
 ],
 "metadata": {
  "kernelspec": {
   "display_name": "Python 3",
   "language": "python",
   "name": "python3"
  },
  "language_info": {
   "codemirror_mode": {
    "name": "ipython",
    "version": 3
   },
   "file_extension": ".py",
   "mimetype": "text/x-python",
   "name": "python",
   "nbconvert_exporter": "python",
   "pygments_lexer": "ipython3",
   "version": "3.8.3"
  },
  "orig_nbformat": 4
 },
 "nbformat": 4,
 "nbformat_minor": 2
}
